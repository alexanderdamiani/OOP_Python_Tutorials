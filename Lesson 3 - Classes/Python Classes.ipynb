{
 "cells": [
  {
   "cell_type": "markdown",
   "metadata": {},
   "source": [
    "### What are classes and why are they needed in Python?\n",
    "\n",
    "The reasons to use classes are:\n",
    "1. Organization: A class keeps all data attributes and functionality of an object in your program in one single location. If a change needs to be made to the object it only needs to be done in one place instead of every place the function is called.\n",
    "\n",
    "\n",
    "2. Encapsulation: Functionality or data attributes of a class can be hidden from the user. This means the functionality or attributes can only be invoked within the class, and the user can not invoke them from outside the class. The user just knows it works, not how it works.\n",
    "\n",
    "\n",
    "3. Inheritance: Base-level functionality or attributes can be defined in a top-level class. Then multiple sub-classes can **inherit** from the top-level class and either extend functionality or attributes or override them. \n",
    "\n",
    "\n",
    "4. Reuse: The same advatange functions provided of rusing the same code throughout the program, classes provided that same functionality. It only needs to be defined once and can be reused anywhere in the program.\n",
    "\n",
    "The example here will be the same car factory from before. This car factory is a new brand called BMY. It sells three different types of cars BMY-A, BMY-B, BMY-C. The car classes being built are not just for describing the car, it has everything the car will need to be operational by the driver. For each of the points above:\n",
    "\n",
    "1. Organization: There will be a car class for BMY, BMY-A, BMY-B, and BMY-C.\n",
    "\n",
    "\n",
    "2. Encapsulation: Each car class has a speed attribute. However, the end user can not change the speed attribute directly. The only way the user can change the speed is by calling the `accelerate()` or `stop()` function.\n",
    "\n",
    "\n",
    "3. Inheritance: The majority of attributes and functionality will be defined in the BMY top-level class. The other three classes will inherit from the top-level BMY class and not have to redefine anything. The bottom-level classes will only have to define attributes or functionality specific to those models, i.e. opening and closing a sunroof.\n",
    "\n",
    "\n",
    "4. Reuse: To actually execute the code, having all functionality and attributes packaged in a class will make code rewrite unnecessary.\n",
    "---"
   ]
  },
  {
   "cell_type": "markdown",
   "metadata": {},
   "source": [
    "## Table of Contents\n",
    "\n",
    "1. Syntax for Classes\n",
    "\n",
    "\n",
    "2. Defining a Class\n",
    "\n",
    "\n",
    "3. Constructor\n",
    "\n",
    "\n",
    "4. Instance Variables vs Class Variables\n",
    "\n",
    "\n",
    "6. Adding and Accessing Class Variables\n",
    "    \n",
    "    \n",
    "7. Adding and Accessing Class Functions\n",
    "    \n",
    "    \n",
    "7. Private and Public Attributes and Functions\n",
    "\n",
    "\n",
    "8. Encapsulation\n",
    "\n",
    "\n",
    "9. Inheritance\n",
    "\n",
    "\n",
    "10. Overriding Functions\n",
    "\n",
    "\n",
    "11. Overloading Operators\n",
    "\n",
    "\n",
    "12. Polymorphism"
   ]
  },
  {
   "cell_type": "markdown",
   "metadata": {},
   "source": [
    "## 1. Syntax for Classes"
   ]
  },
  {
   "cell_type": "markdown",
   "metadata": {},
   "source": [
    "----\n",
    "\n",
    "![title](images/python_class_example2.png)\n",
    "\n",
    "----"
   ]
  },
  {
   "cell_type": "markdown",
   "metadata": {},
   "source": [
    "Notes:\n",
    "* class (lowercase) is the keyword to specify a Class, followed by the class name\n",
    "* `manufacturer` is a variable shared among all instances of Car\n",
    "* `def __init__(self, color, max_speed)` is the constructor of the Car class, used to create new Car instances\n",
    "* `self.color`, `self.max_speed`, and `self.speed` are not shared among Car instances\n",
    "* `self` is a keyword specifying the Car instance being used"
   ]
  },
  {
   "cell_type": "markdown",
   "metadata": {},
   "source": [
    "## 2. Defining a Class"
   ]
  },
  {
   "cell_type": "code",
   "execution_count": 1,
   "metadata": {},
   "outputs": [],
   "source": [
    "class Car:\n",
    "    pass"
   ]
  },
  {
   "cell_type": "code",
   "execution_count": 2,
   "metadata": {},
   "outputs": [],
   "source": [
    "class Car:\n",
    "    speed = 15\n",
    "    color = 'red'\n",
    "    \n",
    "    def get_speed():\n",
    "        return speed"
   ]
  },
  {
   "cell_type": "code",
   "execution_count": 3,
   "metadata": {},
   "outputs": [
    {
     "name": "stdout",
     "output_type": "stream",
     "text": [
      "15\n"
     ]
    }
   ],
   "source": [
    "car1 = Car()\n",
    "\n",
    "print(car1.speed)"
   ]
  },
  {
   "cell_type": "markdown",
   "metadata": {},
   "source": [
    "## 3. Constructor"
   ]
  },
  {
   "cell_type": "code",
   "execution_count": 4,
   "metadata": {},
   "outputs": [],
   "source": [
    "class Car:\n",
    "    def __init__(self, speed, color):  # constructor\n",
    "        self.speed = speed  # instance variable\n",
    "        self.color = color  # instance variable"
   ]
  },
  {
   "cell_type": "code",
   "execution_count": 5,
   "metadata": {},
   "outputs": [
    {
     "name": "stdout",
     "output_type": "stream",
     "text": [
      "car 1 speed:  50\n",
      "car 2 speed:  60\n",
      "\n",
      "car 1 speed:  70\n",
      "car 2 speed:  60\n"
     ]
    }
   ],
   "source": [
    "car1 = Car(speed=50, color='red')\n",
    "car2 = Car(60, 'blue')\n",
    "\n",
    "print('car 1 speed: ', car1.speed)\n",
    "print('car 2 speed: ', car2.speed)\n",
    "\n",
    "car1.speed = 70\n",
    "\n",
    "print()\n",
    "print('car 1 speed: ', car1.speed)\n",
    "print('car 2 speed: ', car2.speed)"
   ]
  },
  {
   "cell_type": "markdown",
   "metadata": {},
   "source": [
    "**Instance variables** are not shared among instances of the class. `car1` set it's speed to 70, but this has no impact on `car2's` speed.\n",
    "\n",
    "The way you know that speed and color are **instance variables** is because both are preceded by `self` in the class defninition. `self` refers to the specific instance of the class."
   ]
  },
  {
   "cell_type": "markdown",
   "metadata": {},
   "source": [
    "## 3. Instance Variables vs Class Variables"
   ]
  },
  {
   "cell_type": "code",
   "execution_count": 6,
   "metadata": {},
   "outputs": [],
   "source": [
    "class Car:\n",
    "    car_count = 0\n",
    "    \n",
    "    def __init__(self, speed, color):  # constructor\n",
    "        self.speed = speed  # instance variable\n",
    "        self.color = color  # instance variable\n",
    "        Car.car_count += 1  # no `self`, uses name of the class\n",
    "    \n",
    "    def accelerate(self):  # `self` keyword\n",
    "        self.speed += 5\n",
    "    \n",
    "    def stop(self):  # `self` keyword\n",
    "        self.speed -= 5"
   ]
  },
  {
   "cell_type": "code",
   "execution_count": 7,
   "metadata": {},
   "outputs": [
    {
     "name": "stdout",
     "output_type": "stream",
     "text": [
      "Before modifications\n",
      "---------------------\n",
      "car1 speed:  50\n",
      "car2 speed:  60\n",
      "\n",
      "car1 car_count:  2\n",
      "car2 car_count:  2\n",
      "\n",
      "\n",
      "After modifications\n",
      "---------------------\n",
      "car1 speed:  100\n",
      "car2 speed:  60\n",
      "\n",
      "car1 car_count:  3\n",
      "car2 car_count:  2\n",
      "\n",
      "\n",
      "After adding new car\n",
      "---------------------\n",
      "car1 car_count:  3\n",
      "car2 car_count:  3\n",
      "car2 car_count:  3\n"
     ]
    }
   ],
   "source": [
    "car1 = Car(speed=50, color='red')\n",
    "car2 = Car(60, 'blue')\n",
    "\n",
    "print('Before modifications')\n",
    "print('---------------------')\n",
    "print('car1 speed: ', car1.speed)\n",
    "print('car2 speed: ', car2.speed)\n",
    "\n",
    "print()\n",
    "print('car1 car_count: ', car1.car_count)\n",
    "print('car2 car_count: ', car2.car_count)\n",
    "\n",
    "\n",
    "# modifications #\n",
    "car1.speed = 100\n",
    "car1.car_count += 1\n",
    "\n",
    "print('\\n\\nAfter modifications')\n",
    "print('---------------------')\n",
    "print('car1 speed: ', car1.speed)\n",
    "print('car2 speed: ', car2.speed)\n",
    "\n",
    "print()\n",
    "print('car1 car_count: ', car1.car_count)\n",
    "print('car2 car_count: ', car2.car_count)\n",
    "\n",
    "# adding new car to reset car_count for all cars #\n",
    "car3 = Car(70, 'green')\n",
    "\n",
    "print('\\n\\nAfter adding new car')\n",
    "print('---------------------')\n",
    "print('car1 car_count: ', car1.car_count)\n",
    "print('car2 car_count: ', car2.car_count)\n",
    "print('car2 car_count: ', car3.car_count)"
   ]
  },
  {
   "cell_type": "markdown",
   "metadata": {},
   "source": [
    "The `car_count` variable is shared among the class instances. It is updated each time the **constructor** is called.\n",
    "\n",
    "However, if one class instance modifies the `car_count` variable, then it is only modified for the one class.\n",
    "\n",
    "But, once a new car is created again, here `car3`, the `car_count` variable is updated from the shared value so now all cars have the same value once again."
   ]
  },
  {
   "cell_type": "markdown",
   "metadata": {},
   "source": [
    "## 4. Adding and Accessing Class Variables"
   ]
  },
  {
   "cell_type": "code",
   "execution_count": null,
   "metadata": {},
   "outputs": [],
   "source": []
  },
  {
   "cell_type": "code",
   "execution_count": null,
   "metadata": {},
   "outputs": [],
   "source": []
  },
  {
   "cell_type": "markdown",
   "metadata": {},
   "source": [
    "## 5. Adding and Accessing Class Functions"
   ]
  },
  {
   "cell_type": "code",
   "execution_count": null,
   "metadata": {},
   "outputs": [],
   "source": []
  },
  {
   "cell_type": "code",
   "execution_count": null,
   "metadata": {},
   "outputs": [],
   "source": []
  },
  {
   "cell_type": "markdown",
   "metadata": {},
   "source": [
    "## 6. Constructor"
   ]
  },
  {
   "cell_type": "code",
   "execution_count": null,
   "metadata": {},
   "outputs": [],
   "source": []
  },
  {
   "cell_type": "code",
   "execution_count": null,
   "metadata": {},
   "outputs": [],
   "source": []
  },
  {
   "cell_type": "markdown",
   "metadata": {},
   "source": [
    "## 7. Private and Public Attributes and Functions"
   ]
  },
  {
   "cell_type": "code",
   "execution_count": null,
   "metadata": {},
   "outputs": [],
   "source": []
  },
  {
   "cell_type": "code",
   "execution_count": null,
   "metadata": {},
   "outputs": [],
   "source": []
  },
  {
   "cell_type": "markdown",
   "metadata": {},
   "source": [
    "## 8. Encapsulation"
   ]
  },
  {
   "cell_type": "code",
   "execution_count": null,
   "metadata": {},
   "outputs": [],
   "source": []
  },
  {
   "cell_type": "code",
   "execution_count": null,
   "metadata": {},
   "outputs": [],
   "source": []
  },
  {
   "cell_type": "markdown",
   "metadata": {},
   "source": [
    "## 9. Inheritance"
   ]
  },
  {
   "cell_type": "code",
   "execution_count": null,
   "metadata": {},
   "outputs": [],
   "source": []
  },
  {
   "cell_type": "code",
   "execution_count": null,
   "metadata": {},
   "outputs": [],
   "source": []
  },
  {
   "cell_type": "markdown",
   "metadata": {},
   "source": [
    "## 10. Overriding Functions"
   ]
  },
  {
   "cell_type": "code",
   "execution_count": null,
   "metadata": {},
   "outputs": [],
   "source": []
  },
  {
   "cell_type": "code",
   "execution_count": null,
   "metadata": {},
   "outputs": [],
   "source": []
  },
  {
   "cell_type": "markdown",
   "metadata": {},
   "source": [
    "## 11. Overloading Operators"
   ]
  },
  {
   "cell_type": "code",
   "execution_count": null,
   "metadata": {},
   "outputs": [],
   "source": []
  },
  {
   "cell_type": "code",
   "execution_count": null,
   "metadata": {},
   "outputs": [],
   "source": []
  },
  {
   "cell_type": "markdown",
   "metadata": {},
   "source": [
    "## 12. Polymorphism"
   ]
  },
  {
   "cell_type": "code",
   "execution_count": null,
   "metadata": {},
   "outputs": [],
   "source": []
  },
  {
   "cell_type": "code",
   "execution_count": null,
   "metadata": {},
   "outputs": [],
   "source": []
  }
 ],
 "metadata": {
  "kernelspec": {
   "display_name": "Python 3",
   "language": "python",
   "name": "python3"
  },
  "language_info": {
   "codemirror_mode": {
    "name": "ipython",
    "version": 3
   },
   "file_extension": ".py",
   "mimetype": "text/x-python",
   "name": "python",
   "nbconvert_exporter": "python",
   "pygments_lexer": "ipython3",
   "version": "3.7.4"
  }
 },
 "nbformat": 4,
 "nbformat_minor": 4
}
