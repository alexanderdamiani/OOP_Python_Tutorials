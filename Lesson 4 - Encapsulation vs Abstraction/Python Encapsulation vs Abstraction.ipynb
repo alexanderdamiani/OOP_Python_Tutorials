{
 "cells": [
  {
   "cell_type": "markdown",
   "metadata": {},
   "source": [
    "### How do encapsulation and abstraction differ and why are they both important?\n",
    "\n",
    "Encapsulation and abstraction are both OOP (Object-Oriented Programming) concepts. Both concepts focus on limiting the end user's access to either data or functionality of the program. "
   ]
  },
  {
   "cell_type": "markdown",
   "metadata": {},
   "source": [
    "----\n",
    "\n",
    "![title](images/car.jpg)\n",
    "\n",
    "----"
   ]
  },
  {
   "cell_type": "markdown",
   "metadata": {},
   "source": [
    "---\n",
    "\n",
    "First, let's consider a real-world example of **encapsulation**. You have a car, which has a lot of fucntionality. A simple function is rolling up the windows. A more advanced function is transferring gas to the engine.\n",
    "\n",
    "Now, the end user should not be able to modify how the gas is transferred to the engine or be able to call that function directly. Instead, they should have to go through a different function to be able to do this. By different function, I mean something simpler. For example, the user wouldn't call the function `send_gas_to_engine()`, but would instead call the function `accelerate()`, which would call the function `send_gas_to_engine()`. Thus, **encapsulation** is packaging pieces of the class together that aren't meant to be accessed outside of the class, and then providing simpler public methods to interact with those private pieces.\n",
    "\n",
    "---\n",
    "\n",
    "Next, let's consider a real-world example of an **abstraction**. Everyone knows what a car is and the basic operational mechanics. You have to turn the key or push a button to start the car, press the gas pedal to accelerate, and push the brake pedal to stop. \n",
    "\n",
    "However, most people don't know which pistons are firing in the engine, at what speed the break pad is being applied to the wheels, the parameters for turning on the check engine light. All of these complex mechanics are **abstracted** away from the user, because they don't need to know these things to operate the car, nor should they have to. \n",
    "\n",
    "In software, the programmer's goal is to provide the simplest interface possible to the end user to accomplish what the user needs to do.\n",
    "\n",
    "---\n",
    "\n",
    "You might have read that and said these are essentially the same thing, which they *essentially* are. The way to discern the two is:\n",
    "\n",
    "> **encapsulation is a method to implement abstraction**\n",
    "\n",
    "**Encapsulation** is a design choice you make at the programming level to make variables/functions private, thus not allowing them to be accessed outside of the class (i.e. can't be accessed by the end user). **Abstraction** is then providing a public interface to that functionality through higher-level functionality that doesn't require the user to interact with or even understand how the underlying functionality works.\n",
    "\n",
    "Turning on a car should always be as simple as pushing a button.\n",
    "\n",
    "---"
   ]
  },
  {
   "cell_type": "markdown",
   "metadata": {},
   "source": [
    "## Table of Contents\n",
    "\n",
    "\n",
    "1\\. What is encapsulation?"
   ]
  },
  {
   "cell_type": "code",
   "execution_count": null,
   "metadata": {},
   "outputs": [],
   "source": []
  }
 ],
 "metadata": {
  "kernelspec": {
   "display_name": "Python 3",
   "language": "python",
   "name": "python3"
  },
  "language_info": {
   "codemirror_mode": {
    "name": "ipython",
    "version": 3
   },
   "file_extension": ".py",
   "mimetype": "text/x-python",
   "name": "python",
   "nbconvert_exporter": "python",
   "pygments_lexer": "ipython3",
   "version": "3.7.4"
  }
 },
 "nbformat": 4,
 "nbformat_minor": 4
}
